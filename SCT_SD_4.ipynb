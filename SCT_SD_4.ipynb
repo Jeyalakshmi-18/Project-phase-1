{
  "nbformat": 4,
  "nbformat_minor": 0,
  "metadata": {
    "colab": {
      "provenance": [],
      "authorship_tag": "ABX9TyPPrqOnz6G/rGMOwAvS8q3e",
      "include_colab_link": true
    },
    "kernelspec": {
      "name": "python3",
      "display_name": "Python 3"
    },
    "language_info": {
      "name": "python"
    }
  },
  "cells": [
    {
      "cell_type": "markdown",
      "metadata": {
        "id": "view-in-github",
        "colab_type": "text"
      },
      "source": [
        "<a href=\"https://colab.research.google.com/github/Jeyalakshmi-18/Project-phase-1/blob/main/SCT_SD_4.ipynb\" target=\"_parent\"><img src=\"https://colab.research.google.com/assets/colab-badge.svg\" alt=\"Open In Colab\"/></a>"
      ]
    },
    {
      "cell_type": "code",
      "execution_count": null,
      "metadata": {
        "colab": {
          "base_uri": "https://localhost:8080/"
        },
        "id": "iah0ZSmFjA_0",
        "outputId": "b0ae7673-ef16-4d8c-a145-5f0efafce7bf"
      },
      "outputs": [
        {
          "output_type": "stream",
          "name": "stdout",
          "text": [
            "Requirement already satisfied: requests in /usr/local/lib/python3.10/dist-packages (2.32.3)\n",
            "Requirement already satisfied: beautifulsoup4 in /usr/local/lib/python3.10/dist-packages (4.12.3)\n",
            "Requirement already satisfied: pandas in /usr/local/lib/python3.10/dist-packages (2.2.2)\n",
            "Requirement already satisfied: charset-normalizer<4,>=2 in /usr/local/lib/python3.10/dist-packages (from requests) (3.4.0)\n",
            "Requirement already satisfied: idna<4,>=2.5 in /usr/local/lib/python3.10/dist-packages (from requests) (3.10)\n",
            "Requirement already satisfied: urllib3<3,>=1.21.1 in /usr/local/lib/python3.10/dist-packages (from requests) (2.2.3)\n",
            "Requirement already satisfied: certifi>=2017.4.17 in /usr/local/lib/python3.10/dist-packages (from requests) (2024.8.30)\n",
            "Requirement already satisfied: soupsieve>1.2 in /usr/local/lib/python3.10/dist-packages (from beautifulsoup4) (2.6)\n",
            "Requirement already satisfied: numpy>=1.22.4 in /usr/local/lib/python3.10/dist-packages (from pandas) (1.26.4)\n",
            "Requirement already satisfied: python-dateutil>=2.8.2 in /usr/local/lib/python3.10/dist-packages (from pandas) (2.8.2)\n",
            "Requirement already satisfied: pytz>=2020.1 in /usr/local/lib/python3.10/dist-packages (from pandas) (2024.2)\n",
            "Requirement already satisfied: tzdata>=2022.7 in /usr/local/lib/python3.10/dist-packages (from pandas) (2024.2)\n",
            "Requirement already satisfied: six>=1.5 in /usr/local/lib/python3.10/dist-packages (from python-dateutil>=2.8.2->pandas) (1.16.0)\n"
          ]
        }
      ],
      "source": [
        "pip install requests beautifulsoup4 pandas"
      ]
    },
    {
      "cell_type": "code",
      "source": [
        "import requests\n",
        "from bs4 import BeautifulSoup\n",
        "import pandas as pd"
      ],
      "metadata": {
        "id": "ZjA8ak_GjNm0"
      },
      "execution_count": null,
      "outputs": []
    },
    {
      "cell_type": "code",
      "source": [
        "url = 'https://www.amazon.in'\n",
        "\n",
        "# Send a GET request to the webpage\n",
        "response = requests.get(url)"
      ],
      "metadata": {
        "id": "mcT6LBdhjj9D"
      },
      "execution_count": null,
      "outputs": []
    },
    {
      "cell_type": "code",
      "source": [
        "if response.status_code == 503:\n",
        "    # Parse the HTML content using BeautifulSoup\n",
        "    soup = BeautifulSoup(response.content, 'html.parser')\n",
        "\n",
        "    # Lists to store product information\n",
        "    product_names = []\n",
        "    product_prices = []\n",
        "    product_ratings = []\n",
        "\n",
        "    # Assuming the structure of the page with classes as an example\n",
        "    products = soup.find_all('div', class_='product-item')\n",
        "\n",
        "    for product in products:\n",
        "        # Extract the product name\n",
        "        name = product.find('h2', class_='product-title').text.strip()  # Update class name\n",
        "        product_names.append(name)\n",
        "\n",
        "        # Extract the product price\n",
        "        price = product.find('span', class_='product-price').text.strip()  # Update class name\n",
        "        product_prices.append(price)\n",
        "\n",
        "        # Extract the product rating\n",
        "        rating = product.find('span', class_='product-rating').text.strip()  # Update class name\n",
        "        product_ratings.append(rating)\n",
        "\n",
        "    # Creating a DataFrame\n",
        "    product_data = pd.DataFrame({\n",
        "        'Product Name': product_names,\n",
        "        'Product Price': product_prices,\n",
        "        'Product Rating': product_ratings\n",
        "    })\n",
        "\n",
        "    # Saving the data to a CSV file\n",
        "    product_data.to_csv('products.csv', index=False)\n",
        "    print(\"Data has been successfully scraped and saved to products.csv\")\n",
        "else:\n",
        "    print(f\"Failed to retrieve webpage. Status code: {response.status_code}\")"
      ],
      "metadata": {
        "colab": {
          "base_uri": "https://localhost:8080/"
        },
        "id": "2L-3Dt0vlq5b",
        "outputId": "8df80e30-2e0e-4ddc-ff1c-ed2c28ff3150"
      },
      "execution_count": null,
      "outputs": [
        {
          "output_type": "stream",
          "name": "stdout",
          "text": [
            "Data has been successfully scraped and saved to products.csv\n"
          ]
        }
      ]
    }
  ]
}